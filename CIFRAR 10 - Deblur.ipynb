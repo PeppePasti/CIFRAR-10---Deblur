{
  "cells": [
    {
      "cell_type": "code",
      "execution_count": null,
      "metadata": {
        "id": "QnciQNAwmann"
      },
      "outputs": [],
      "source": [
        "import tensorflow as tf\n",
        "from tensorflow import keras\n",
        "import random\n",
        "from cv2 import GaussianBlur\n",
        "import numpy as np\n",
        "import matplotlib.pyplot as plt\n",
        "from keras.callbacks import EarlyStopping\n",
        "from keras.layers import Input, Dense, Conv2D, MaxPooling2D, UpSampling2D, Conv2DTranspose, Reshape\n",
        "from keras.models import Model\n",
        "from keras.layers import BatchNormalization"
      ]
    },
    {
      "cell_type": "code",
      "execution_count": null,
      "metadata": {
        "id": "JgTrSAe0meW-"
      },
      "outputs": [],
      "source": [
        "def getDataset():\n",
        "  (x_train, _), (x_test, _) = tf.keras.datasets.cifar10.load_data()\n",
        "  normalize = lambda x: x/x.max()\n",
        "  x_train = normalize(x_train)\n",
        "  x_test = normalize(x_test)\n",
        "  createBlurred = lambda arr: np.array([GaussianBlur(x, (5,5), ((random.random()*3)+1)) + (0.02*np.random.normal(0,1, (32, 32, 3))) for x in arr])\n",
        "  return (createBlurred(x_train), x_train), (createBlurred(x_test), x_test)"
      ]
    },
    {
      "cell_type": "code",
      "execution_count": null,
      "metadata": {
        "id": "PzYgWHHdmfyD",
        "colab": {
          "base_uri": "https://localhost:8080/"
        },
        "outputId": "149e1093-4812-4d39-b95e-3864e10009f2"
      },
      "outputs": [
        {
          "output_type": "stream",
          "name": "stdout",
          "text": [
            "Downloading data from https://www.cs.toronto.edu/~kriz/cifar-10-python.tar.gz\n",
            "170500096/170498071 [==============================] - 2s 0us/step\n",
            "170508288/170498071 [==============================] - 2s 0us/step\n"
          ]
        }
      ],
      "source": [
        "[x_train, y_train],  [x_test, y_test] = getDataset()  "
      ]
    },
    {
      "cell_type": "code",
      "execution_count": null,
      "metadata": {
        "id": "gJ4M3IlDmhq3",
        "colab": {
          "base_uri": "https://localhost:8080/"
        },
        "outputId": "9e88795a-2918-4f01-cc87-a2b6b9e5909a"
      },
      "outputs": [
        {
          "output_type": "execute_result",
          "data": {
            "text/plain": [
              "(50000, 32, 32, 3)"
            ]
          },
          "metadata": {},
          "execution_count": 4
        }
      ],
      "source": [
        "x_train.shape"
      ]
    },
    {
      "cell_type": "code",
      "execution_count": null,
      "metadata": {
        "id": "OQxInskImmSc",
        "colab": {
          "base_uri": "https://localhost:8080/",
          "height": 515
        },
        "outputId": "13af30cc-f813-48f2-da9e-dc6d95f01171"
      },
      "outputs": [
        {
          "output_type": "display_data",
          "data": {
            "text/plain": [
              "<Figure size 432x288 with 1 Axes>"
            ],
            "image/png": "[encoded data removed]"
          },
          "metadata": {
            "needs_background": "light"
          }
        },
        {
          "output_type": "display_data",
          "data": {
            "text/plain": [
              "<Figure size 432x288 with 1 Axes>"
            ],
            "image/png": "[encoded data removed]"
          },
          "metadata": {
            "needs_background": "light"
          }
        }
      ],
      "source": [
        "plt.imshow (x_train[1])\n",
        "plt.show()\n",
        "plt.imshow(y_train[1])\n",
        "plt.show()"
      ]
    },
    {
      "cell_type": "code",
      "execution_count": null,
      "metadata": {
        "id": "5wu3bdY3mqZc",
        "colab": {
          "base_uri": "https://localhost:8080/"
        },
        "outputId": "b6e53cf8-5ce4-4cc5-e6e1-112c21967486"
      },
      "outputs": [
        {
          "output_type": "stream",
          "name": "stdout",
          "text": [
            "Model: \"model\"\n",
            "_________________________________________________________________\n",
            " Layer (type)                Output Shape              Param #   \n",
            "=================================================================\n",
            " input_1 (InputLayer)        [(None, 32, 32, 3)]       0         \n",
            "                                                                 \n",
            " conv2d (Conv2D)             (None, 32, 32, 256)       7168      \n",
            "                                                                 \n",
            " conv2d_1 (Conv2D)           (None, 32, 32, 128)       295040    \n",
            "                                                                 \n",
            " conv2d_2 (Conv2D)           (None, 32, 32, 64)        73792     \n",
            "                                                                 \n",
            " conv2d_3 (Conv2D)           (None, 32, 32, 32)        18464     \n",
            "                                                                 \n",
            " conv2d_4 (Conv2D)           (None, 32, 32, 16)        4624      \n",
            "                                                                 \n",
            " conv2d_5 (Conv2D)           (None, 32, 32, 8)         1160      \n",
            "                                                                 \n",
            " conv2d_6 (Conv2D)           (None, 32, 32, 4)         292       \n",
            "                                                                 \n",
            " conv2d_7 (Conv2D)           (None, 32, 32, 4)         148       \n",
            "                                                                 \n",
            " conv2d_8 (Conv2D)           (None, 32, 32, 8)         296       \n",
            "                                                                 \n",
            " conv2d_9 (Conv2D)           (None, 32, 32, 16)        1168      \n",
            "                                                                 \n",
            " conv2d_10 (Conv2D)          (None, 32, 32, 32)        4640      \n",
            "                                                                 \n",
            " conv2d_11 (Conv2D)          (None, 32, 32, 64)        18496     \n",
            "                                                                 \n",
            " conv2d_12 (Conv2D)          (None, 32, 32, 128)       73856     \n",
            "                                                                 \n",
            " conv2d_13 (Conv2D)          (None, 32, 32, 256)       295168    \n",
            "                                                                 \n",
            " conv2d_14 (Conv2D)          (None, 32, 32, 3)         6915      \n",
            "                                                                 \n",
            "=================================================================\n",
            "Total params: 801,227\n",
            "Trainable params: 801,227\n",
            "Non-trainable params: 0\n",
            "_________________________________________________________________\n"
          ]
        }
      ],
      "source": [
        "Input_img = Input(shape=(32, 32, 3))  \n",
        "    \n",
        "x = Conv2D(256, (3, 3), activation='relu', padding='same')(Input_img)\n",
        "x= Conv2D(128, (3, 3), activation='relu', padding='same')(x)\n",
        "x= Conv2D(64, (3, 3), activation='relu', padding='same')(x)\n",
        "x= Conv2D(32, (3, 3), activation='relu', padding='same')(x)\n",
        "x= Conv2D(16, (3, 3), activation='relu', padding='same')(x)\n",
        "x= Conv2D(8, (3, 3), activation='relu', padding='same')(x)\n",
        "encoded = Conv2D(4, (3, 3), activation='relu', padding='same')(x)\n",
        "\n",
        "# decoding architecture\n",
        "x = Conv2D(4, (3, 3), activation='relu', padding='same')(encoded)\n",
        "x = Conv2D(8, (3, 3), activation='relu', padding='same')(x)\n",
        "x = Conv2D(16, (3, 3), activation='relu', padding='same')(x)\n",
        "x = Conv2D(32, (3, 3), activation='relu', padding='same')(x)\n",
        "x= Conv2D(64, (3, 3), activation='relu', padding='same')(x)\n",
        "x= Conv2D(128, (3, 3), activation='relu', padding='same')(x)\n",
        "x= Conv2D(256, (3, 3), activation='relu', padding='same')(x)\n",
        "decoded = Conv2D(3, (3, 3), padding='same')(x)\n",
        "\n",
        "\n",
        "autoencoder = Model(Input_img, decoded)\n",
        "autoencoder.compile(optimizer='adam', loss='mse')\n",
        "\n",
        "autoencoder.summary()\n",
        "\n"
      ]
    },
    {
      "cell_type": "code",
      "source": [
        "from google.colab import drive\n",
        "drive.mount('/content/gdrive')\n",
        "autoencoder.load_weights(\"/content/gdrive/MyDrive/model.h5\")"
      ],
      "metadata": {
        "colab": {
          "base_uri": "https://localhost:8080/"
        },
        "id": "IAxcXPYEnrOd",
        "outputId": "0bb8d3ec-99b9-4a7e-d531-4c4d92d6b718"
      },
      "execution_count": null,
      "outputs": [
        {
          "output_type": "stream",
          "name": "stdout",
          "text": [
            "Mounted at /content/gdrive\n"
          ]
        }
      ]
    },
    {
      "cell_type": "code",
      "execution_count": null,
      "metadata": {
        "id": "fsaBL6Buocm6",
        "colab": {
          "base_uri": "https://localhost:8080/"
        },
        "outputId": "35554622-e0c7-4446-9822-2e442fb7d094"
      },
      "outputs": [
        {
          "output_type": "stream",
          "name": "stdout",
          "text": [
            "Epoch 1/1000\n",
            "  1/157 [..............................] - ETA: 1:12:09 - loss: 0.0024"
          ]
        }
      ],
      "source": [
        "early_stopper = EarlyStopping(monitor='val_loss', min_delta=0.0001, patience=30, verbose=1, mode='auto')\n",
        "\n",
        "a_e = autoencoder.fit(x_train, y_train,\n",
        "            epochs=1000,\n",
        "            batch_size=256,\n",
        "            shuffle=True,\n",
        "            validation_split=0.20,\n",
        "            callbacks=[early_stopper])"
      ]
    },
    {
      "cell_type": "code",
      "execution_count": null,
      "metadata": {
        "id": "Tw-GGADXpdHQ"
      },
      "outputs": [],
      "source": [
        "predictions = autoencoder.predict(x_test)\n",
        "\n",
        "\n",
        "plt.imshow (predictions[1])\n",
        "print (\"Model output\")\n",
        "plt.show()\n",
        "plt.imshow(x_test[1])\n",
        "print(\"blurred image\")\n",
        "plt.show()\n",
        "plt.imshow(y_test[1])\n",
        "print(\"target image\")\n",
        "plt.show()\n",
        "\n",
        "plt.imshow (predictions[2])\n",
        "print (\"Model output\")\n",
        "plt.show()\n",
        "plt.imshow(x_test[2])\n",
        "print(\"blurred image\")\n",
        "plt.show()\n",
        "plt.imshow(y_test[2])\n",
        "print(\"target image\")\n",
        "plt.show()\n",
        "\n",
        "\n"
      ]
    },
    {
      "cell_type": "code",
      "source": [
        "autoencoder.evaluate(x_test,y_test)"
      ],
      "metadata": {
        "id": "l5StKuYfVspw"
      },
      "execution_count": null,
      "outputs": []
    },
    {
      "cell_type": "code",
      "source": [
        "#from google.colab import drive\n",
        "#drive.mount('/content/gdrive')"
      ],
      "metadata": {
        "id": "R34xru_St43y"
      },
      "execution_count": null,
      "outputs": []
    },
    {
      "cell_type": "code",
      "source": [
        "#autoencoder.save(\"/content/gdrive/MyDrive/model.h5\")"
      ],
      "metadata": {
        "id": "Tcp8ldFcuC9K"
      },
      "execution_count": null,
      "outputs": []
    }
  ],
  "metadata": {
    "accelerator": "GPU",
    "colab": {
      "collapsed_sections": [],
      "provenance": []
    },
    "kernelspec": {
      "display_name": "Python 3",
      "name": "python3"
    },
    "language_info": {
      "name": "python"
    }
  },
  "nbformat": 4,
  "nbformat_minor": 0
}